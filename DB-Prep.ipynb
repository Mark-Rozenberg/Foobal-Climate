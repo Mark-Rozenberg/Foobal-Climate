{
 "cells": [
  {
   "cell_type": "code",
   "execution_count": null,
   "metadata": {},
   "outputs": [],
   "source": [
    "import requests\n",
    "import sqlite3\n",
    "import pandas as pd\n",
    "\n",
    "# NOAA API token\n",
    "api_token = 'rDZYpxCxcNrIUzeserZMcYDaaHCNPcFZ'\n",
    "\n",
    "# connect to the DB\n",
    "conn = sqlite3.connect('C:/Users/Mark Rozenberg/Foobal-Climate/Data/Main_DB.db')"
   ]
  },
  {
   "cell_type": "markdown",
   "metadata": {},
   "source": [
    "### create table to hold climate data"
   ]
  },
  {
   "cell_type": "code",
   "execution_count": null,
   "metadata": {},
   "outputs": [],
   "source": [
    "# Create the climate table if it doesn't exist\n",
    "conn.execute('''drop table if exists climate''')\n",
    "conn.execute('''\n",
    "CREATE TABLE IF NOT EXISTS climate (\n",
    "    date TEXT,\n",
    "    location_id TEXT,\n",
    "    datatype TEXT,\n",
    "    station TEXT,\n",
    "    attributes TEXT,\n",
    "    value REAL\n",
    ")\n",
    "''')\n",
    "conn.commit()"
   ]
  }
 ],
 "metadata": {
  "language_info": {
   "name": "python"
  }
 },
 "nbformat": 4,
 "nbformat_minor": 2
}
