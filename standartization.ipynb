{
 "cells": [
  {
   "cell_type": "markdown",
   "metadata": {},
   "source": [
    "### here we will standardize the data for better merge performance\n",
    "process stages:\n",
    "1. change country names in results table to fit noaa_countries data\n",
    "2. add noaa country code from noaa_countries table to results table\n",
    "3. change alpha_2 codes in results table to fit alpha_2 code in locations table\n",
    "4. change city names in results table to fit city name in locations table\n",
    "5. merge noaa location id to results table by city and alpha_2 code"
   ]
  },
  {
   "cell_type": "code",
   "execution_count": 1,
   "metadata": {},
   "outputs": [],
   "source": [
    "import requests\n",
    "import sqlite3\n",
    "import pandas as pd\n",
    "\n",
    "# NOAA API token\n",
    "api_token = 'rDZYpxCxcNrIUzeserZMcYDaaHCNPcFZ'\n",
    "\n",
    "# connect to the DB\n",
    "conn = sqlite3.connect('C:/Users/Mark Rozenberg/Foobal-Climate/Data/Main_DB.db')"
   ]
  },
  {
   "cell_type": "markdown",
   "metadata": {},
   "source": [
    "#### stage 1"
   ]
  },
  {
   "cell_type": "code",
   "execution_count": 48,
   "metadata": {},
   "outputs": [],
   "source": [
    "# Define the mapping dictionary\n",
    "country_mapping = {\n",
    "    'German DR': 'Germany',\n",
    "    'Czechoslovakia': 'Czech Republic',\n",
    "    'Yugoslavia': 'Serbia',\n",
    "    'Serbia and Montenegro': 'Serbia',\n",
    "    'Scotland' : 'United Kingdom',\n",
    "    'England': 'United Kingdom',\n",
    "    'Wales': 'United Kingdom',\n",
    "    'China PR': 'China',\n",
    "    'Northern Cyprus': 'Cyprus',\n",
    "    'Northern Ireland': 'Ireland',\n",
    "    'Republic of Ireland': 'Ireland',\n",
    "    'Puerto Rico': 'Puerto Rico [United States]',\n",
    "    'Gambia': 'Gambia, The',\n",
    "    'South Korea': 'Korea, South',\n",
    "    'North Korea': 'Korea, North',\n",
    "    'Mali Federation': 'Mali',\n",
    "    'Vietnam DR': 'Vietnam',\n",
    "    'Vietnam Republic': 'Vietnam',\n",
    "    'Ivory Coast': 'Cote D\\'Ivoire',\n",
    "    'Taiwan*': 'Taiwan',\n",
    "    'North Macedonia': 'Macedonia',\n",
    "    'Bahamas': 'Bahamas, The',\n",
    "    'Micronesia': 'Federated States of Micronesia',\n",
    "    'Samoa': 'American Samoa [United States]',\n",
    "    'South Sudan': 'Sudan',\n",
    "    'Congo': 'Congo (Brazzaville)',\n",
    "    'DR Congo': 'Congo (Kinshasa)',\n",
    "    'Belgian Congo': 'Congo (Kinshasa)',\n",
    "    'Bermuda': 'Bermuda [United Kingdom]',\n",
    "    'Guam': 'Guam [United States]',\n",
    "    'Cayman Islands': 'Cayman Islands [United Kingdom]',\n",
    "    'Gibraltar': 'Gibraltar [United Kingdom]',\n",
    "    'United States Virgin Islands': 'Virgin Islands [United States]',\n",
    "    'Cook Islands': 'Cook Islands [New Zealand]',\n",
    "    'Northern Mariana Islands': 'Northern Mariana Islands [United States]' \n",
    "}\n",
    "\n",
    "# Update the 'results' table in the SQLite database with the new city names\n",
    "for old, new in country_mapping.items():\n",
    "    conn.execute('''\n",
    "    UPDATE results\n",
    "    SET country = ?\n",
    "    WHERE country = ?\n",
    "    ''', (new, old))\n",
    "conn.commit()"
   ]
  },
  {
   "cell_type": "markdown",
   "metadata": {},
   "source": [
    "#### stage 2"
   ]
  },
  {
   "cell_type": "code",
   "execution_count": 51,
   "metadata": {},
   "outputs": [],
   "source": [
    "conn.execute('ALTER TABLE results drop column noaa_country_code')\n",
    "conn.execute('ALTER TABLE results ADD COLUMN noaa_country_code TEXT')\n",
    "conn.execute('''\n",
    "UPDATE results\n",
    "SET noaa_country_code = (\n",
    "    SELECT code\n",
    "    FROM noaa_countries\n",
    "    WHERE results.country = noaa_countries.name\n",
    ")\n",
    "''')\n",
    "conn.commit()"
   ]
  },
  {
   "cell_type": "code",
   "execution_count": 5,
   "metadata": {},
   "outputs": [],
   "source": [
    "# check the new column\n",
    "susu = pd.read_sql('SELECT distinct country, noaa_country_code FROM results', conn)\n",
    "susu.to_excel('C:/Users/Mark Rozenberg/Downloads/susu.xlsx', index=False)"
   ]
  },
  {
   "cell_type": "code",
   "execution_count": 47,
   "metadata": {},
   "outputs": [
    {
     "data": {
      "text/html": [
       "<div>\n",
       "<style scoped>\n",
       "    .dataframe tbody tr th:only-of-type {\n",
       "        vertical-align: middle;\n",
       "    }\n",
       "\n",
       "    .dataframe tbody tr th {\n",
       "        vertical-align: top;\n",
       "    }\n",
       "\n",
       "    .dataframe thead th {\n",
       "        text-align: right;\n",
       "    }\n",
       "</style>\n",
       "<table border=\"1\" class=\"dataframe\">\n",
       "  <thead>\n",
       "    <tr style=\"text-align: right;\">\n",
       "      <th></th>\n",
       "      <th>code</th>\n",
       "      <th>name</th>\n",
       "    </tr>\n",
       "  </thead>\n",
       "  <tbody>\n",
       "  </tbody>\n",
       "</table>\n",
       "</div>"
      ],
      "text/plain": [
       "Empty DataFrame\n",
       "Columns: [code, name]\n",
       "Index: []"
      ]
     },
     "execution_count": 47,
     "metadata": {},
     "output_type": "execute_result"
    }
   ],
   "source": [
    "pd.read_sql('''\n",
    "SELECT *\n",
    "FROM noaa_countries\n",
    "where name like '%tah%'\n",
    "''', conn)"
   ]
  },
  {
   "cell_type": "markdown",
   "metadata": {},
   "source": [
    "#### stage 3"
   ]
  },
  {
   "cell_type": "code",
   "execution_count": 35,
   "metadata": {},
   "outputs": [
    {
     "data": {
      "text/html": [
       "<div>\n",
       "<style scoped>\n",
       "    .dataframe tbody tr th:only-of-type {\n",
       "        vertical-align: middle;\n",
       "    }\n",
       "\n",
       "    .dataframe tbody tr th {\n",
       "        vertical-align: top;\n",
       "    }\n",
       "\n",
       "    .dataframe thead th {\n",
       "        text-align: right;\n",
       "    }\n",
       "</style>\n",
       "<table border=\"1\" class=\"dataframe\">\n",
       "  <thead>\n",
       "    <tr style=\"text-align: right;\">\n",
       "      <th></th>\n",
       "      <th>city</th>\n",
       "    </tr>\n",
       "  </thead>\n",
       "  <tbody>\n",
       "    <tr>\n",
       "      <th>0</th>\n",
       "      <td>San Fernando</td>\n",
       "    </tr>\n",
       "    <tr>\n",
       "      <th>1</th>\n",
       "      <td>Orlando</td>\n",
       "    </tr>\n",
       "    <tr>\n",
       "      <th>2</th>\n",
       "      <td>Landover</td>\n",
       "    </tr>\n",
       "    <tr>\n",
       "      <th>3</th>\n",
       "      <td>Owando</td>\n",
       "    </tr>\n",
       "    <tr>\n",
       "      <th>4</th>\n",
       "      <td>Andorra la Vella</td>\n",
       "    </tr>\n",
       "  </tbody>\n",
       "</table>\n",
       "</div>"
      ],
      "text/plain": [
       "               city\n",
       "0      San Fernando\n",
       "1           Orlando\n",
       "2          Landover\n",
       "3            Owando\n",
       "4  Andorra la Vella"
      ]
     },
     "execution_count": 35,
     "metadata": {},
     "output_type": "execute_result"
    }
   ],
   "source": [
    "pd.read_sql_query('''\n",
    "SELECT distinct city\n",
    "FROM results\n",
    "where city like '%ando%'\n",
    "''', conn)"
   ]
  },
  {
   "cell_type": "code",
   "execution_count": null,
   "metadata": {},
   "outputs": [],
   "source": [
    "pd.read_sql_query('''\n",
    "SELECT *\n",
    "FROM locations\n",
    "-- where city like '%adelaid%'\n",
    "where alpha_2 in('AU','AT','AS')\n",
    "''', conn)"
   ]
  },
  {
   "cell_type": "code",
   "execution_count": null,
   "metadata": {},
   "outputs": [],
   "source": [
    "pd.read_sql_query('''\n",
    "SELECT *\n",
    "from countries\n",
    "-- where name like '%austr%'\n",
    "where alpha_2 in('AU','AT','AS')\n",
    "''', conn)"
   ]
  },
  {
   "cell_type": "code",
   "execution_count": null,
   "metadata": {},
   "outputs": [],
   "source": [
    "wuwu = pd.read_sql_query('''\n",
    "with part1 as (\n",
    "select distinct city, alpha_2\n",
    "from results\n",
    ")\n",
    "SELECT r.city, l.city, r.alpha_2, l.alpha_2, l.id, l.name\n",
    "FROM part1 as r\n",
    "inner join locations as l\n",
    "ON SUBSTR(r.city, 1, 5) = SUBSTR(l.name, 1, 5)\n",
    "order by r.city\n",
    "''', conn)\n",
    "wuwu.to_excel('C:/Users/Mark Rozenberg/Downloads/wuwu.xlsx', index=False)"
   ]
  },
  {
   "cell_type": "code",
   "execution_count": null,
   "metadata": {},
   "outputs": [],
   "source": [
    "# Define the mapping dictionary\n",
    "city_mapping = {\n",
    "    'Tel Aviv': 'Tel Aviv-Yafo',\n",
    "    'Middlesbrough': 'Middlesborough'\n",
    "}\n",
    "\n",
    "# Update the 'results' table in the SQLite database with the new city names\n",
    "for old_city, new_city in city_mapping.items():\n",
    "    conn.execute('''\n",
    "    UPDATE results\n",
    "    SET city = ?\n",
    "    WHERE city = ?\n",
    "    ''', (new_city, old_city))\n",
    "conn.commit()"
   ]
  },
  {
   "cell_type": "code",
   "execution_count": null,
   "metadata": {},
   "outputs": [],
   "source": [
    "# Define the mapping dictionary\n",
    "alpha_2_mapping = {\n",
    "    'ES': 'SP',\n",
    "    'IL': 'IS',\n",
    "    'TR': 'TU',\n",
    "    'GB': 'UK'\n",
    "}\n",
    "\n",
    "# Update the 'results' table in the SQLite database with the new city names\n",
    "for old, new in alpha_2_mapping.items():\n",
    "    conn.execute('''\n",
    "    UPDATE results\n",
    "    SET alpha_2 = ?\n",
    "    WHERE alpha_2 = ?\n",
    "    ''', (new, old))\n",
    "conn.commit()"
   ]
  }
 ],
 "metadata": {
  "kernelspec": {
   "display_name": ".venv",
   "language": "python",
   "name": "python3"
  },
  "language_info": {
   "codemirror_mode": {
    "name": "ipython",
    "version": 3
   },
   "file_extension": ".py",
   "mimetype": "text/x-python",
   "name": "python",
   "nbconvert_exporter": "python",
   "pygments_lexer": "ipython3",
   "version": "3.12.6"
  }
 },
 "nbformat": 4,
 "nbformat_minor": 2
}
