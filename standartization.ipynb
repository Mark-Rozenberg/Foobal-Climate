{
 "cells": [
  {
   "cell_type": "markdown",
   "metadata": {},
   "source": [
    "### here we will standardize the data for better merge performance\n",
    "process stages:\n",
    "1. change country names in results table to fit countries data\n",
    "2. add alpha_2 country code from countries table to results table\n",
    "3. change alpha_2 codes in results table to fit alpha_2 code in locations table\n",
    "4. merge noaa location id to results table by city and alpha_2 code"
   ]
  },
  {
   "cell_type": "markdown",
   "metadata": {},
   "source": []
  },
  {
   "cell_type": "code",
   "execution_count": null,
   "metadata": {},
   "outputs": [],
   "source": [
    "# Define the mapping dictionary\n",
    "country_mapping = {\n",
    "    'German DR': 'Germany',\n",
    "    'Czechoslovakia': 'Czech Republic',\n",
    "    'Yugoslavia': 'Serbia',\n",
    "    'Serbia and Montenegro': 'Serbia',\n",
    "    'Turkey': 'Türkiye',\n",
    "    'Scotland' : 'United Kingdom',\n",
    "    'England': 'United Kingdom',\n",
    "    'Wales': 'United Kingdom',\n",
    "    'Czech Republic': 'Czechia',\n",
    "    'China PR': 'China',\n",
    "    'Iran': 'Iran, Islamic Republic of',\n",
    "    'South Korea': 'Korea, Republic of',\n",
    "    'North Korea': 'Korea, Democratic People\\'s Republic of',\n",
    "    'Vietnam': 'Viet Nam',\n",
    "    'DR Congo': 'Congo, The Democratic Republic of the',\n",
    "    'Syria': 'Syrian Arab Republic',\n",
    "    'Taiwan': 'Taiwan, Province of China',\n",
    "    'Russia': 'Russian Federation',\n",
    "    'Moldova': 'Moldova, Republic of',\n",
    "    'Macedonia': 'North Macedonia',\n",
    "    'Bolivia': 'Bolivia, Plurinational State of',\n",
    "    'Venezuela': 'Venezuela, Bolivarian Republic of',\n",
    "    'Palestine': 'Palestine, State of',\n",
    "    'Tanzania': 'Tanzania, United Republic of',\n",
    "    'Ivory Coast': 'Côte d\\'Ivoire',\n",
    "    'Micronesia': 'Micronesia, Federated States of',\n",
    "    'Northern Cyprus': 'Cyprus'\n",
    "}\n",
    "\n",
    "# Update the 'results' table in the SQLite database with the new city names\n",
    "for old, new in country_mapping.items():\n",
    "    conn.execute('''\n",
    "    UPDATE results\n",
    "    SET country = ?\n",
    "    WHERE country = ?\n",
    "    ''', (new, old))\n",
    "conn.commit()"
   ]
  }
 ],
 "metadata": {
  "kernelspec": {
   "display_name": ".venv",
   "language": "python",
   "name": "python3"
  },
  "language_info": {
   "name": "python",
   "version": "3.12.6"
  }
 },
 "nbformat": 4,
 "nbformat_minor": 2
}
