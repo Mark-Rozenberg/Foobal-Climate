{
 "cells": [
  {
   "cell_type": "markdown",
   "metadata": {},
   "source": [
    "## create the DataBase"
   ]
  },
  {
   "cell_type": "code",
   "execution_count": null,
   "metadata": {},
   "outputs": [],
   "source": [
    "import pandas as pd\n",
    "import sqlite3\n",
    "\n",
    "# kaggle data link:\n",
    "link = 'https://www.kaggle.com/martj42/international-football-results-from-1872-to-2017'\n",
    "# to the path below download from kaggle 3 csv files: results.csv, goalscorers.csv, shootouts.csv\n",
    "path = 'C:/Users/Mark Rozenberg/Foobal-Climate/Data/footbal/'\n",
    "# create sql database with 3 fotbal tables:\n",
    "conn = sqlite3.connect('C:/Users/Mark Rozenberg/Foobal-Climate/Data/Main_DB.db')\n",
    "pd.read_csv(path + 'results.csv').to_sql('results', conn)\n",
    "pd.read_csv(path + 'goalscorers.csv').to_sql('goalscorers', conn)\n",
    "pd.read_csv(path + 'shootouts.csv').to_sql('shootouts', conn)\n",
    "conn.commit()"
   ]
  },
  {
   "cell_type": "code",
   "execution_count": 2,
   "metadata": {},
   "outputs": [],
   "source": [
    "import pandas as pd\n",
    "import sqlite3\n",
    "conn = sqlite3.connect('C:/Users/Mark Rozenberg/Foobal-Climate/Data/Main_DB.db')"
   ]
  },
  {
   "cell_type": "markdown",
   "metadata": {},
   "source": [
    "### updating results table"
   ]
  },
  {
   "cell_type": "code",
   "execution_count": 3,
   "metadata": {},
   "outputs": [],
   "source": [
    "from unidecode import unidecode\n",
    "\n",
    "# Fetch distinct cities from the results table\n",
    "cities = pd.read_sql_query('SELECT DISTINCT city FROM results', conn)\n",
    "\n",
    "# Apply unidecode to each city\n",
    "cities['city_v2'] = cities['city'].apply(unidecode)\n",
    "\n",
    "# Update the results table with the new city names\n",
    "for index, row in cities.iterrows():\n",
    "    conn.execute('''\n",
    "    UPDATE results\n",
    "    SET city = ?\n",
    "    WHERE city = ?\n",
    "    ''', (row['city_v2'], row['city']))\n",
    "\n",
    "conn.commit()"
   ]
  },
  {
   "cell_type": "code",
   "execution_count": 9,
   "metadata": {},
   "outputs": [],
   "source": [
    "# simple overview of the data:\n",
    "fuf = pd.read_sql_query('SELECT * FROM results limit 5', conn)"
   ]
  },
  {
   "cell_type": "code",
   "execution_count": 8,
   "metadata": {},
   "outputs": [
    {
     "name": "stdout",
     "output_type": "stream",
     "text": [
      "                              tournament  games\n",
      "0                    UEFA Nations League    526\n",
      "1                CONCACAF Nations League    351\n",
      "2  CONCACAF Nations League qualification     68\n"
     ]
    }
   ],
   "source": [
    "test = print(pd.read_sql_query('''\n",
    "SELECT tournament,\n",
    "count(*) as games\n",
    "FROM results\n",
    "where tournament like '%Leag%'\n",
    "group by 1\n",
    "order by 2 desc\n",
    "''', conn))"
   ]
  },
  {
   "cell_type": "code",
   "execution_count": 10,
   "metadata": {},
   "outputs": [
    {
     "name": "stdout",
     "output_type": "stream",
     "text": [
      "              city  games\n",
      "0     Kuala Lumpur    730\n",
      "1          Bangkok    573\n",
      "2             Doha    546\n",
      "3           London    428\n",
      "4         Budapest    425\n",
      "...            ...    ...\n",
      "2067      Acarigua      1\n",
      "2068      Acapulco      1\n",
      "2069      Aberdare      1\n",
      "2070      Abeokuta      1\n",
      "2071         Aarau      1\n",
      "\n",
      "[2072 rows x 2 columns]\n"
     ]
    }
   ],
   "source": [
    "test = print(pd.read_sql_query('''\n",
    "SELECT city,\n",
    "count(*) as games\n",
    "FROM results\n",
    "group by 1\n",
    "order by 2 desc\n",
    "''', conn))"
   ]
  }
 ],
 "metadata": {
  "kernelspec": {
   "display_name": ".venv",
   "language": "python",
   "name": "python3"
  },
  "language_info": {
   "codemirror_mode": {
    "name": "ipython",
    "version": 3
   },
   "file_extension": ".py",
   "mimetype": "text/x-python",
   "name": "python",
   "nbconvert_exporter": "python",
   "pygments_lexer": "ipython3",
   "version": "3.12.6"
  }
 },
 "nbformat": 4,
 "nbformat_minor": 2
}
