{
 "cells": [
  {
   "cell_type": "code",
   "execution_count": 2,
   "metadata": {},
   "outputs": [],
   "source": [
    "import requests\n",
    "import sqlite3\n",
    "import pandas as pd\n",
    "\n",
    "# NOAA API token\n",
    "api_token = 'rDZYpxCxcNrIUzeserZMcYDaaHCNPcFZ'\n",
    "\n",
    "# connect to the DB\n",
    "conn = sqlite3.connect('C:/Users/Mark Rozenberg/Foobal-Climate/Data/Main_DB.db')"
   ]
  },
  {
   "cell_type": "markdown",
   "metadata": {},
   "source": [
    "### create table for locations id's"
   ]
  },
  {
   "cell_type": "code",
   "execution_count": null,
   "metadata": {},
   "outputs": [],
   "source": [
    "headers = {\n",
    "    'token': api_token\n",
    "}\n",
    "\n",
    "# Set up SQLite database\n",
    "cursor = conn.cursor()\n",
    "\n",
    "# Create table for locations\n",
    "cursor.execute('''\n",
    "CREATE TABLE IF NOT EXISTS locations (\n",
    "    id TEXT PRIMARY KEY,\n",
    "    name TEXT,\n",
    "    mindate TEXT,\n",
    "    maxdate TEXT,\n",
    "    datacoverage REAL\n",
    ")\n",
    "''')\n",
    "\n",
    "# Function to fetch locations from NOAA API\n",
    "def fetch_locations(offset=1, limit=1000):\n",
    "    url = 'https://www.ncdc.noaa.gov/cdo-web/api/v2/locations'\n",
    "    params = {\n",
    "        'locationcategoryid': 'CITY',\n",
    "        'limit': limit,\n",
    "        'offset': offset\n",
    "    }\n",
    "    response = requests.get(url, headers=headers, params=params)\n",
    "    return response.json()\n",
    "\n",
    "# Fetch and store all locations\n",
    "offset = 1\n",
    "limit = 1000\n",
    "while True:\n",
    "    data = fetch_locations(offset, limit)\n",
    "    locations = data.get('results', [])\n",
    "    if not locations:\n",
    "        break\n",
    "\n",
    "    # Insert locations into the database\n",
    "    for location in locations:\n",
    "        cursor.execute('''\n",
    "        INSERT OR IGNORE INTO locations (id, name, mindate, maxdate, datacoverage)\n",
    "        VALUES (?, ?, ?, ?, ?)\n",
    "        ''', (\n",
    "            location['id'],\n",
    "            location['name'],\n",
    "            location['mindate'],\n",
    "            location['maxdate'],\n",
    "            location['datacoverage']\n",
    "        ))\n",
    "\n",
    "    offset += limit\n",
    "    print(f\"Fetched {offset} locations\")\n",
    "\n",
    "# Commit and close the database connection\n",
    "conn.commit()\n",
    "conn.close()"
   ]
  },
  {
   "cell_type": "code",
   "execution_count": 3,
   "metadata": {},
   "outputs": [],
   "source": [
    "# Add new columns city and alpha_2\n",
    "conn.execute('ALTER TABLE locations ADD COLUMN city TEXT')\n",
    "conn.execute('ALTER TABLE locations ADD COLUMN alpha_2 TEXT')\n",
    "\n",
    "# Update the table by splitting the name column\n",
    "conn.execute('''\n",
    "UPDATE locations\n",
    "SET city = SUBSTR(name, 1, INSTR(name, ',') - 1),\n",
    "    alpha_2 = SUBSTR(id, INSTR(id, ':') + 1, 2)\n",
    "''')\n",
    "\n",
    "# Commit the changes\n",
    "conn.commit()"
   ]
  },
  {
   "cell_type": "code",
   "execution_count": 5,
   "metadata": {},
   "outputs": [
    {
     "data": {
      "text/html": [
       "<div>\n",
       "<style scoped>\n",
       "    .dataframe tbody tr th:only-of-type {\n",
       "        vertical-align: middle;\n",
       "    }\n",
       "\n",
       "    .dataframe tbody tr th {\n",
       "        vertical-align: top;\n",
       "    }\n",
       "\n",
       "    .dataframe thead th {\n",
       "        text-align: right;\n",
       "    }\n",
       "</style>\n",
       "<table border=\"1\" class=\"dataframe\">\n",
       "  <thead>\n",
       "    <tr style=\"text-align: right;\">\n",
       "      <th></th>\n",
       "      <th>id</th>\n",
       "      <th>name</th>\n",
       "      <th>mindate</th>\n",
       "      <th>maxdate</th>\n",
       "      <th>datacoverage</th>\n",
       "      <th>city</th>\n",
       "      <th>alpha_2</th>\n",
       "    </tr>\n",
       "  </thead>\n",
       "  <tbody>\n",
       "    <tr>\n",
       "      <th>0</th>\n",
       "      <td>CITY:SP000001</td>\n",
       "      <td>Barcelona, SP</td>\n",
       "      <td>1913-08-01</td>\n",
       "      <td>2024-09-24</td>\n",
       "      <td>1.0</td>\n",
       "      <td>Barcelona</td>\n",
       "      <td>SP</td>\n",
       "    </tr>\n",
       "    <tr>\n",
       "      <th>1</th>\n",
       "      <td>CITY:VE000001</td>\n",
       "      <td>Barcelona, VE</td>\n",
       "      <td>1968-01-01</td>\n",
       "      <td>2024-09-24</td>\n",
       "      <td>1.0</td>\n",
       "      <td>Barcelona</td>\n",
       "      <td>VE</td>\n",
       "    </tr>\n",
       "  </tbody>\n",
       "</table>\n",
       "</div>"
      ],
      "text/plain": [
       "              id           name     mindate     maxdate  datacoverage  \\\n",
       "0  CITY:SP000001  Barcelona, SP  1913-08-01  2024-09-24           1.0   \n",
       "1  CITY:VE000001  Barcelona, VE  1968-01-01  2024-09-24           1.0   \n",
       "\n",
       "        city alpha_2  \n",
       "0  Barcelona      SP  \n",
       "1  Barcelona      VE  "
      ]
     },
     "execution_count": 5,
     "metadata": {},
     "output_type": "execute_result"
    }
   ],
   "source": [
    "pd.read_sql_query('''\n",
    "SELECT *\n",
    "from locations\n",
    "where city = 'Barcelona'\n",
    "limit 3\n",
    "''', conn)"
   ]
  }
 ],
 "metadata": {
  "kernelspec": {
   "display_name": ".venv",
   "language": "python",
   "name": "python3"
  },
  "language_info": {
   "codemirror_mode": {
    "name": "ipython",
    "version": 3
   },
   "file_extension": ".py",
   "mimetype": "text/x-python",
   "name": "python",
   "nbconvert_exporter": "python",
   "pygments_lexer": "ipython3",
   "version": "3.12.6"
  }
 },
 "nbformat": 4,
 "nbformat_minor": 2
}
