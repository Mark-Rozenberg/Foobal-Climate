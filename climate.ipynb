{
 "cells": [
  {
   "cell_type": "markdown",
   "metadata": {},
   "source": [
    "### find a city"
   ]
  },
  {
   "cell_type": "code",
   "execution_count": 2,
   "metadata": {},
   "outputs": [],
   "source": [
    "import requests\n",
    "import sqlite3\n",
    "import pandas as pd\n",
    "\n",
    "# NOAA API token\n",
    "api_token = 'rDZYpxCxcNrIUzeserZMcYDaaHCNPcFZ'\n",
    "\n",
    "# connect to the DB\n",
    "conn = sqlite3.connect('C:/Users/Mark Rozenberg/Foobal-Climate/Data/Main_DB.db')"
   ]
  },
  {
   "cell_type": "markdown",
   "metadata": {},
   "source": [
    "### extract data for desired cities"
   ]
  },
  {
   "cell_type": "code",
   "execution_count": 8,
   "metadata": {},
   "outputs": [
    {
     "data": {
      "text/html": [
       "<div>\n",
       "<style scoped>\n",
       "    .dataframe tbody tr th:only-of-type {\n",
       "        vertical-align: middle;\n",
       "    }\n",
       "\n",
       "    .dataframe tbody tr th {\n",
       "        vertical-align: top;\n",
       "    }\n",
       "\n",
       "    .dataframe thead th {\n",
       "        text-align: right;\n",
       "    }\n",
       "</style>\n",
       "<table border=\"1\" class=\"dataframe\">\n",
       "  <thead>\n",
       "    <tr style=\"text-align: right;\">\n",
       "      <th></th>\n",
       "      <th>count(*)</th>\n",
       "    </tr>\n",
       "  </thead>\n",
       "  <tbody>\n",
       "    <tr>\n",
       "      <th>0</th>\n",
       "      <td>32389</td>\n",
       "    </tr>\n",
       "  </tbody>\n",
       "</table>\n",
       "</div>"
      ],
      "text/plain": [
       "   count(*)\n",
       "0     32389"
      ]
     },
     "execution_count": 8,
     "metadata": {},
     "output_type": "execute_result"
    }
   ],
   "source": [
    "pd.read_sql_query('''\n",
    "SELECT count(*)\n",
    "from results\n",
    "where city in(select SUBSTR(name, 1, INSTR(name, ',') - 1) from locations)\n",
    "''' , conn)"
   ]
  },
  {
   "cell_type": "code",
   "execution_count": 10,
   "metadata": {},
   "outputs": [
    {
     "data": {
      "text/html": [
       "<div>\n",
       "<style scoped>\n",
       "    .dataframe tbody tr th:only-of-type {\n",
       "        vertical-align: middle;\n",
       "    }\n",
       "\n",
       "    .dataframe tbody tr th {\n",
       "        vertical-align: top;\n",
       "    }\n",
       "\n",
       "    .dataframe thead th {\n",
       "        text-align: right;\n",
       "    }\n",
       "</style>\n",
       "<table border=\"1\" class=\"dataframe\">\n",
       "  <thead>\n",
       "    <tr style=\"text-align: right;\">\n",
       "      <th></th>\n",
       "      <th>count(*)</th>\n",
       "    </tr>\n",
       "  </thead>\n",
       "  <tbody>\n",
       "    <tr>\n",
       "      <th>0</th>\n",
       "      <td>33242</td>\n",
       "    </tr>\n",
       "  </tbody>\n",
       "</table>\n",
       "</div>"
      ],
      "text/plain": [
       "   count(*)\n",
       "0     33242"
      ]
     },
     "execution_count": 10,
     "metadata": {},
     "output_type": "execute_result"
    }
   ],
   "source": [
    "pd.read_sql_query('''\n",
    "select count(*)\n",
    "from Merged\n",
    "''', conn)"
   ]
  },
  {
   "cell_type": "code",
   "execution_count": 27,
   "metadata": {},
   "outputs": [],
   "source": [
    "# join between locations and results (the city where the match played)\n",
    "test = pd.read_sql_query('''\n",
    "with part1 as (\n",
    "SELECT 1 as locations,\n",
    "SUBSTR(name, 1, INSTR(name, ',') - 1) as city_locations\n",
    "FROM locations\n",
    "),\n",
    "part2 as (\n",
    "SELECT distinct city as city_results, 1 as results\n",
    "FROM results\n",
    "),\n",
    "part3 as (\n",
    "select t1.*, t2.*\n",
    "from part1 t1\n",
    "full join part2 t2\n",
    "on t1.city_locations = t2.city_results\n",
    ")\n",
    "''', conn)\n",
    "test.to_csv('C:/Users/Mark Rozenberg/downloads/check1-v2.csv')"
   ]
  },
  {
   "cell_type": "code",
   "execution_count": 19,
   "metadata": {},
   "outputs": [],
   "source": [
    "conn.execute(''' drop table if exists Merged''')\n",
    "conn.commit()"
   ]
  },
  {
   "cell_type": "code",
   "execution_count": 26,
   "metadata": {},
   "outputs": [],
   "source": [
    "conn.execute(''' drop table if exists Merged''')\n",
    "conn.execute('''\n",
    "create table if not exists merged as\n",
    "with part1 as (\n",
    "SELECT date, city as city_results\n",
    "FROM results\n",
    "),\n",
    "part2 as (\n",
    "SELECT id,\n",
    "SUBSTR(name, 1, INSTR(name, ',') - 1) as city_locations,\n",
    "mindate, maxdate\n",
    "FROM locations\n",
    "),\n",
    "part3 as(\n",
    "select t1.*, t2.*,\n",
    "case when date between mindate and maxdate then 1 else 0 end as valid_date\n",
    "from part1 t1\n",
    "inner join part2 t2\n",
    "on t1.city_results = t2.city_locations\n",
    ")\n",
    "select *\n",
    "from part3\n",
    "where valid_date = 1\n",
    "''')\n",
    "conn.commit()"
   ]
  },
  {
   "cell_type": "code",
   "execution_count": 13,
   "metadata": {},
   "outputs": [
    {
     "data": {
      "text/html": [
       "<div>\n",
       "<style scoped>\n",
       "    .dataframe tbody tr th:only-of-type {\n",
       "        vertical-align: middle;\n",
       "    }\n",
       "\n",
       "    .dataframe tbody tr th {\n",
       "        vertical-align: top;\n",
       "    }\n",
       "\n",
       "    .dataframe thead th {\n",
       "        text-align: right;\n",
       "    }\n",
       "</style>\n",
       "<table border=\"1\" class=\"dataframe\">\n",
       "  <thead>\n",
       "    <tr style=\"text-align: right;\">\n",
       "      <th></th>\n",
       "      <th>id</th>\n",
       "      <th>name</th>\n",
       "      <th>mindate</th>\n",
       "      <th>maxdate</th>\n",
       "      <th>datacoverage</th>\n",
       "    </tr>\n",
       "  </thead>\n",
       "  <tbody>\n",
       "    <tr>\n",
       "      <th>0</th>\n",
       "      <td>CITY:SP000001</td>\n",
       "      <td>Barcelona, SP</td>\n",
       "      <td>1913-08-01</td>\n",
       "      <td>2024-09-24</td>\n",
       "      <td>1.0</td>\n",
       "    </tr>\n",
       "    <tr>\n",
       "      <th>1</th>\n",
       "      <td>CITY:VE000001</td>\n",
       "      <td>Barcelona, VE</td>\n",
       "      <td>1968-01-01</td>\n",
       "      <td>2024-09-24</td>\n",
       "      <td>1.0</td>\n",
       "    </tr>\n",
       "  </tbody>\n",
       "</table>\n",
       "</div>"
      ],
      "text/plain": [
       "              id           name     mindate     maxdate  datacoverage\n",
       "0  CITY:SP000001  Barcelona, SP  1913-08-01  2024-09-24           1.0\n",
       "1  CITY:VE000001  Barcelona, VE  1968-01-01  2024-09-24           1.0"
      ]
     },
     "execution_count": 13,
     "metadata": {},
     "output_type": "execute_result"
    }
   ],
   "source": [
    "test = pd.read_sql_query('''\n",
    "SELECT *\n",
    "FROM locations\n",
    "where name like '%Barcelona%'\n",
    "limit 10\n",
    "''', conn)\n",
    "test"
   ]
  },
  {
   "cell_type": "code",
   "execution_count": 17,
   "metadata": {},
   "outputs": [
    {
     "data": {
      "text/html": [
       "<div>\n",
       "<style scoped>\n",
       "    .dataframe tbody tr th:only-of-type {\n",
       "        vertical-align: middle;\n",
       "    }\n",
       "\n",
       "    .dataframe tbody tr th {\n",
       "        vertical-align: top;\n",
       "    }\n",
       "\n",
       "    .dataframe thead th {\n",
       "        text-align: right;\n",
       "    }\n",
       "</style>\n",
       "<table border=\"1\" class=\"dataframe\">\n",
       "  <thead>\n",
       "    <tr style=\"text-align: right;\">\n",
       "      <th></th>\n",
       "      <th>city</th>\n",
       "      <th>alpha_2</th>\n",
       "    </tr>\n",
       "  </thead>\n",
       "  <tbody>\n",
       "    <tr>\n",
       "      <th>0</th>\n",
       "      <td>Barcelona</td>\n",
       "      <td>ES</td>\n",
       "    </tr>\n",
       "  </tbody>\n",
       "</table>\n",
       "</div>"
      ],
      "text/plain": [
       "        city alpha_2\n",
       "0  Barcelona      ES"
      ]
     },
     "execution_count": 17,
     "metadata": {},
     "output_type": "execute_result"
    }
   ],
   "source": [
    "pd.read_sql_query('''\n",
    "SELECT distinct city, alpha_2\n",
    "FROM results\n",
    "where city = 'Barcelona'\n",
    "limit 3\n",
    "''', conn)"
   ]
  },
  {
   "cell_type": "markdown",
   "metadata": {},
   "source": [
    "### merging in two steps\n",
    "    1. only for cities that have only 1 uniqe country\n",
    "    2. only cities with more then 1 uniqe countries"
   ]
  },
  {
   "cell_type": "code",
   "execution_count": 31,
   "metadata": {},
   "outputs": [
    {
     "ename": "TypeError",
     "evalue": "'NoneType' object is not iterable",
     "output_type": "error",
     "traceback": [
      "\u001b[1;31m---------------------------------------------------------------------------\u001b[0m",
      "\u001b[1;31mTypeError\u001b[0m                                 Traceback (most recent call last)",
      "Cell \u001b[1;32mIn[31], line 1\u001b[0m\n\u001b[1;32m----> 1\u001b[0m \u001b[43mpd\u001b[49m\u001b[38;5;241;43m.\u001b[39;49m\u001b[43mread_sql_query\u001b[49m\u001b[43m(\u001b[49m\u001b[38;5;124;43m'''\u001b[39;49m\n\u001b[0;32m      2\u001b[0m \u001b[38;5;124;43mcreate table if not exists merged as\u001b[39;49m\n\u001b[0;32m      3\u001b[0m \u001b[38;5;124;43mwith part1 as (\u001b[39;49m\n\u001b[0;32m      4\u001b[0m \u001b[38;5;124;43mSELECT *, SUBSTR(name, 1, INSTR(name, \u001b[39;49m\u001b[38;5;124;43m'\u001b[39;49m\u001b[38;5;124;43m,\u001b[39;49m\u001b[38;5;124;43m'\u001b[39;49m\u001b[38;5;124;43m) - 1) as city\u001b[39;49m\n\u001b[0;32m      5\u001b[0m \u001b[38;5;124;43mFROM locations\u001b[39;49m\n\u001b[0;32m      6\u001b[0m \u001b[38;5;124;43m),\u001b[39;49m\n\u001b[0;32m      7\u001b[0m \u001b[38;5;124;43mpart2 as (\u001b[39;49m\n\u001b[0;32m      8\u001b[0m \u001b[38;5;124;43mselect city\u001b[39;49m\n\u001b[0;32m      9\u001b[0m \u001b[38;5;124;43mfrom part1\u001b[39;49m\n\u001b[0;32m     10\u001b[0m \u001b[38;5;124;43mgroup by 1\u001b[39;49m\n\u001b[0;32m     11\u001b[0m \u001b[38;5;124;43mhaving count(*) = 1\u001b[39;49m\n\u001b[0;32m     12\u001b[0m \u001b[38;5;124;43m),\u001b[39;49m\n\u001b[0;32m     13\u001b[0m \u001b[38;5;124;43mpart3 as (\u001b[39;49m\n\u001b[0;32m     14\u001b[0m \u001b[38;5;124;43mselect *\u001b[39;49m\n\u001b[0;32m     15\u001b[0m \u001b[38;5;124;43mfrom results\u001b[39;49m\n\u001b[0;32m     16\u001b[0m \u001b[38;5;124;43mwhere city in (select city from part2)\u001b[39;49m\n\u001b[0;32m     17\u001b[0m \u001b[38;5;124;43m),\u001b[39;49m\n\u001b[0;32m     18\u001b[0m \u001b[38;5;124;43mpart4 as (\u001b[39;49m\n\u001b[0;32m     19\u001b[0m \u001b[38;5;124;43mselect t1.*, t2.id,\u001b[39;49m\n\u001b[0;32m     20\u001b[0m \u001b[38;5;124;43mcase when date between mindate and maxdate then 1 else 0 end as valid_date\u001b[39;49m\n\u001b[0;32m     21\u001b[0m \u001b[38;5;124;43mfrom part3 t1\u001b[39;49m\n\u001b[0;32m     22\u001b[0m \u001b[38;5;124;43mleft join part1 t2\u001b[39;49m\n\u001b[0;32m     23\u001b[0m \u001b[38;5;124;43mon t1.city = t2.city\u001b[39;49m\n\u001b[0;32m     24\u001b[0m \u001b[38;5;124;43m),\u001b[39;49m\n\u001b[0;32m     25\u001b[0m \u001b[38;5;124;43mpart5 as (\u001b[39;49m\n\u001b[0;32m     26\u001b[0m \u001b[38;5;124;43mselect city\u001b[39;49m\n\u001b[0;32m     27\u001b[0m \u001b[38;5;124;43mfrom part1\u001b[39;49m\n\u001b[0;32m     28\u001b[0m \u001b[38;5;124;43mgroup by 1\u001b[39;49m\n\u001b[0;32m     29\u001b[0m \u001b[38;5;124;43mhaving count(*) > 1\u001b[39;49m\n\u001b[0;32m     30\u001b[0m \u001b[38;5;124;43m),\u001b[39;49m\n\u001b[0;32m     31\u001b[0m \u001b[38;5;124;43mpart6 as (\u001b[39;49m\n\u001b[0;32m     32\u001b[0m \u001b[38;5;124;43mselect *\u001b[39;49m\n\u001b[0;32m     33\u001b[0m \u001b[38;5;124;43mfrom results\u001b[39;49m\n\u001b[0;32m     34\u001b[0m \u001b[38;5;124;43mwhere city in (select city from part5)\u001b[39;49m\n\u001b[0;32m     35\u001b[0m \u001b[38;5;124;43m),\u001b[39;49m\n\u001b[0;32m     36\u001b[0m \u001b[38;5;124;43mpart7 as (\u001b[39;49m\n\u001b[0;32m     37\u001b[0m \u001b[38;5;124;43mselect t1.*, t2.id,\u001b[39;49m\n\u001b[0;32m     38\u001b[0m \u001b[38;5;124;43mcase when date between mindate and maxdate then 1 else 0 end as valid_date\u001b[39;49m\n\u001b[0;32m     39\u001b[0m \u001b[38;5;124;43mfrom part6 t1\u001b[39;49m\n\u001b[0;32m     40\u001b[0m \u001b[38;5;124;43mleft join part1 t2\u001b[39;49m\n\u001b[0;32m     41\u001b[0m \u001b[38;5;124;43mon t1.city = t2.city and t1.alpha_2 = t2.alpha_2\u001b[39;49m\n\u001b[0;32m     42\u001b[0m \u001b[38;5;124;43m),\u001b[39;49m\n\u001b[0;32m     43\u001b[0m \u001b[38;5;124;43mpart8 as (\u001b[39;49m\n\u001b[0;32m     44\u001b[0m \u001b[38;5;124;43mselect * from part4\u001b[39;49m\n\u001b[0;32m     45\u001b[0m \u001b[38;5;124;43munion\u001b[39;49m\n\u001b[0;32m     46\u001b[0m \u001b[38;5;124;43mselect * from part7\u001b[39;49m\n\u001b[0;32m     47\u001b[0m \u001b[38;5;124;43m)\u001b[39;49m\n\u001b[0;32m     48\u001b[0m \u001b[38;5;124;43mselect count(*)\u001b[39;49m\n\u001b[0;32m     49\u001b[0m \u001b[38;5;124;43mfrom part8\u001b[39;49m\n\u001b[0;32m     50\u001b[0m \u001b[38;5;124;43m'''\u001b[39;49m\u001b[43m,\u001b[49m\u001b[43m \u001b[49m\u001b[43mconn\u001b[49m\u001b[43m)\u001b[49m\n",
      "File \u001b[1;32mc:\\Users\\Mark Rozenberg\\Foobal-Climate\\.venv\\Lib\\site-packages\\pandas\\io\\sql.py:526\u001b[0m, in \u001b[0;36mread_sql_query\u001b[1;34m(sql, con, index_col, coerce_float, params, parse_dates, chunksize, dtype, dtype_backend)\u001b[0m\n\u001b[0;32m    523\u001b[0m \u001b[38;5;28;01massert\u001b[39;00m dtype_backend \u001b[38;5;129;01mis\u001b[39;00m \u001b[38;5;129;01mnot\u001b[39;00m lib\u001b[38;5;241m.\u001b[39mno_default\n\u001b[0;32m    525\u001b[0m \u001b[38;5;28;01mwith\u001b[39;00m pandasSQL_builder(con) \u001b[38;5;28;01mas\u001b[39;00m pandas_sql:\n\u001b[1;32m--> 526\u001b[0m     \u001b[38;5;28;01mreturn\u001b[39;00m \u001b[43mpandas_sql\u001b[49m\u001b[38;5;241;43m.\u001b[39;49m\u001b[43mread_query\u001b[49m\u001b[43m(\u001b[49m\n\u001b[0;32m    527\u001b[0m \u001b[43m        \u001b[49m\u001b[43msql\u001b[49m\u001b[43m,\u001b[49m\n\u001b[0;32m    528\u001b[0m \u001b[43m        \u001b[49m\u001b[43mindex_col\u001b[49m\u001b[38;5;241;43m=\u001b[39;49m\u001b[43mindex_col\u001b[49m\u001b[43m,\u001b[49m\n\u001b[0;32m    529\u001b[0m \u001b[43m        \u001b[49m\u001b[43mparams\u001b[49m\u001b[38;5;241;43m=\u001b[39;49m\u001b[43mparams\u001b[49m\u001b[43m,\u001b[49m\n\u001b[0;32m    530\u001b[0m \u001b[43m        \u001b[49m\u001b[43mcoerce_float\u001b[49m\u001b[38;5;241;43m=\u001b[39;49m\u001b[43mcoerce_float\u001b[49m\u001b[43m,\u001b[49m\n\u001b[0;32m    531\u001b[0m \u001b[43m        \u001b[49m\u001b[43mparse_dates\u001b[49m\u001b[38;5;241;43m=\u001b[39;49m\u001b[43mparse_dates\u001b[49m\u001b[43m,\u001b[49m\n\u001b[0;32m    532\u001b[0m \u001b[43m        \u001b[49m\u001b[43mchunksize\u001b[49m\u001b[38;5;241;43m=\u001b[39;49m\u001b[43mchunksize\u001b[49m\u001b[43m,\u001b[49m\n\u001b[0;32m    533\u001b[0m \u001b[43m        \u001b[49m\u001b[43mdtype\u001b[49m\u001b[38;5;241;43m=\u001b[39;49m\u001b[43mdtype\u001b[49m\u001b[43m,\u001b[49m\n\u001b[0;32m    534\u001b[0m \u001b[43m        \u001b[49m\u001b[43mdtype_backend\u001b[49m\u001b[38;5;241;43m=\u001b[39;49m\u001b[43mdtype_backend\u001b[49m\u001b[43m,\u001b[49m\n\u001b[0;32m    535\u001b[0m \u001b[43m    \u001b[49m\u001b[43m)\u001b[49m\n",
      "File \u001b[1;32mc:\\Users\\Mark Rozenberg\\Foobal-Climate\\.venv\\Lib\\site-packages\\pandas\\io\\sql.py:2739\u001b[0m, in \u001b[0;36mSQLiteDatabase.read_query\u001b[1;34m(self, sql, index_col, coerce_float, parse_dates, params, chunksize, dtype, dtype_backend)\u001b[0m\n\u001b[0;32m   2727\u001b[0m \u001b[38;5;28;01mdef\u001b[39;00m \u001b[38;5;21mread_query\u001b[39m(\n\u001b[0;32m   2728\u001b[0m     \u001b[38;5;28mself\u001b[39m,\n\u001b[0;32m   2729\u001b[0m     sql,\n\u001b[1;32m   (...)\u001b[0m\n\u001b[0;32m   2736\u001b[0m     dtype_backend: DtypeBackend \u001b[38;5;241m|\u001b[39m Literal[\u001b[38;5;124m\"\u001b[39m\u001b[38;5;124mnumpy\u001b[39m\u001b[38;5;124m\"\u001b[39m] \u001b[38;5;241m=\u001b[39m \u001b[38;5;124m\"\u001b[39m\u001b[38;5;124mnumpy\u001b[39m\u001b[38;5;124m\"\u001b[39m,\n\u001b[0;32m   2737\u001b[0m ) \u001b[38;5;241m-\u001b[39m\u001b[38;5;241m>\u001b[39m DataFrame \u001b[38;5;241m|\u001b[39m Iterator[DataFrame]:\n\u001b[0;32m   2738\u001b[0m     cursor \u001b[38;5;241m=\u001b[39m \u001b[38;5;28mself\u001b[39m\u001b[38;5;241m.\u001b[39mexecute(sql, params)\n\u001b[1;32m-> 2739\u001b[0m     columns \u001b[38;5;241m=\u001b[39m [col_desc[\u001b[38;5;241m0\u001b[39m] \u001b[38;5;28;01mfor\u001b[39;00m col_desc \u001b[38;5;129;01min\u001b[39;00m cursor\u001b[38;5;241m.\u001b[39mdescription]\n\u001b[0;32m   2741\u001b[0m     \u001b[38;5;28;01mif\u001b[39;00m chunksize \u001b[38;5;129;01mis\u001b[39;00m \u001b[38;5;129;01mnot\u001b[39;00m \u001b[38;5;28;01mNone\u001b[39;00m:\n\u001b[0;32m   2742\u001b[0m         \u001b[38;5;28;01mreturn\u001b[39;00m \u001b[38;5;28mself\u001b[39m\u001b[38;5;241m.\u001b[39m_query_iterator(\n\u001b[0;32m   2743\u001b[0m             cursor,\n\u001b[0;32m   2744\u001b[0m             chunksize,\n\u001b[1;32m   (...)\u001b[0m\n\u001b[0;32m   2750\u001b[0m             dtype_backend\u001b[38;5;241m=\u001b[39mdtype_backend,\n\u001b[0;32m   2751\u001b[0m         )\n",
      "\u001b[1;31mTypeError\u001b[0m: 'NoneType' object is not iterable"
     ]
    }
   ],
   "source": [
    "conn.execute('''\n",
    "create table if not exists merged as\n",
    "with part1 as (\n",
    "SELECT *, SUBSTR(name, 1, INSTR(name, ',') - 1) as city\n",
    "FROM locations\n",
    "),\n",
    "part2 as (\n",
    "select city\n",
    "from part1\n",
    "group by 1\n",
    "having count(*) = 1\n",
    "),\n",
    "part3 as (\n",
    "select *\n",
    "from results\n",
    "where city in (select city from part2)\n",
    "),\n",
    "part4 as (\n",
    "select t1.*, t2.id,\n",
    "case when date between mindate and maxdate then 1 else 0 end as valid_date\n",
    "from part3 t1\n",
    "left join part1 t2\n",
    "on t1.city = t2.city\n",
    "),\n",
    "part5 as (\n",
    "select city\n",
    "from part1\n",
    "group by 1\n",
    "having count(*) > 1\n",
    "),\n",
    "part6 as (\n",
    "select *\n",
    "from results\n",
    "where city in (select city from part5)\n",
    "),\n",
    "part7 as (\n",
    "select t1.*, t2.id,\n",
    "case when date between mindate and maxdate then 1 else 0 end as valid_date\n",
    "from part6 t1\n",
    "left join part1 t2\n",
    "on t1.city = t2.city and t1.alpha_2 = t2.alpha_2\n",
    "),\n",
    "part8 as (\n",
    "select * from part4\n",
    "union\n",
    "select * from part7\n",
    ")\n",
    "select *\n",
    "from part8\n",
    "''')\n",
    "conn.commit()"
   ]
  },
  {
   "cell_type": "markdown",
   "metadata": {},
   "source": [
    "### add to conn table with map between country name and country code"
   ]
  },
  {
   "cell_type": "code",
   "execution_count": 77,
   "metadata": {},
   "outputs": [],
   "source": [
    "conn.execute('''\n",
    "CREATE TABLE IF NOT EXISTS countries (\n",
    "    id INTEGER PRIMARY KEY,\n",
    "    name TEXT NOT NULL,\n",
    "    alpha_2 TEXT NOT NULL\n",
    ")\n",
    "''')\n",
    "conn.commit()"
   ]
  },
  {
   "cell_type": "code",
   "execution_count": 78,
   "metadata": {},
   "outputs": [],
   "source": [
    "import pycountry\n",
    "for country in pycountry.countries:\n",
    "    cursor.execute('''\n",
    "    INSERT INTO countries (name, alpha_2) VALUES (?, ?)\n",
    "    ''', (country.name, country.alpha_2))"
   ]
  },
  {
   "cell_type": "markdown",
   "metadata": {},
   "source": [
    "### updating results table by adding alpha_2 column from countries table"
   ]
  },
  {
   "cell_type": "code",
   "execution_count": 85,
   "metadata": {},
   "outputs": [],
   "source": [
    "conn.execute('ALTER TABLE results ADD COLUMN alpha_2 TEXT')\n",
    "conn.execute('''\n",
    "UPDATE results\n",
    "SET alpha_2 = (\n",
    "    SELECT countries.alpha_2\n",
    "    FROM countries\n",
    "    WHERE results.country = countries.name\n",
    ")\n",
    "''')\n",
    "conn.commit()"
   ]
  },
  {
   "cell_type": "markdown",
   "metadata": {},
   "source": [
    "### updating results country name and alpha_2 code for better merge results"
   ]
  },
  {
   "cell_type": "code",
   "execution_count": 7,
   "metadata": {},
   "outputs": [],
   "source": [
    "# first i will create a table with countries from results that do not merge with countries from pycountry\n",
    "conn.execute('''\n",
    "create table if not exists countries_not_merged as\n",
    "select distinct country\n",
    "from results\n",
    "where alpha_2 is null\n",
    "''')\n",
    "conn.commit()"
   ]
  },
  {
   "cell_type": "code",
   "execution_count": 21,
   "metadata": {},
   "outputs": [],
   "source": [
    "susu = pd.read_sql_query('''\n",
    "select distinct country, alpha_2\n",
    "from results\n",
    "''', conn)\n",
    "susu.to_csv('C:/Users/Mark Rozenberg/downloads/check3.csv')"
   ]
  },
  {
   "cell_type": "code",
   "execution_count": 22,
   "metadata": {},
   "outputs": [],
   "source": [
    "susu = pd.read_sql_query('''\n",
    "select distinct name, alpha_2\n",
    "from countries\n",
    "''', conn)\n",
    "susu.to_csv('C:/Users/Mark Rozenberg/downloads/check4.csv')"
   ]
  },
  {
   "cell_type": "markdown",
   "metadata": {},
   "source": [
    "### create mapping for countries"
   ]
  },
  {
   "cell_type": "code",
   "execution_count": null,
   "metadata": {},
   "outputs": [],
   "source": [
    "pd.read_sql_query('''\n",
    "select *\n",
    "from results\n",
    "where country like '%China%'\n",
    "''', conn)"
   ]
  },
  {
   "cell_type": "code",
   "execution_count": 3,
   "metadata": {},
   "outputs": [],
   "source": [
    "conn.execute('''\n",
    "update results\n",
    "set alpha_2 = 'UK'\n",
    "where country in ('England', 'Scotland', 'Wales', 'Northern Ireland')\n",
    "''')\n",
    "conn.commit()"
   ]
  },
  {
   "cell_type": "code",
   "execution_count": null,
   "metadata": {},
   "outputs": [],
   "source": [
    "conn.execute('''\n",
    "update results\n",
    "set country = 'China'\n",
    "where country = 'China PR'\n",
    "''')\n",
    "conn.commit()"
   ]
  },
  {
   "cell_type": "markdown",
   "metadata": {},
   "source": [
    "### Checks"
   ]
  },
  {
   "cell_type": "code",
   "execution_count": 6,
   "metadata": {},
   "outputs": [
    {
     "data": {
      "text/html": [
       "<div>\n",
       "<style scoped>\n",
       "    .dataframe tbody tr th:only-of-type {\n",
       "        vertical-align: middle;\n",
       "    }\n",
       "\n",
       "    .dataframe tbody tr th {\n",
       "        vertical-align: top;\n",
       "    }\n",
       "\n",
       "    .dataframe thead th {\n",
       "        text-align: right;\n",
       "    }\n",
       "</style>\n",
       "<table border=\"1\" class=\"dataframe\">\n",
       "  <thead>\n",
       "    <tr style=\"text-align: right;\">\n",
       "      <th></th>\n",
       "      <th>country</th>\n",
       "    </tr>\n",
       "  </thead>\n",
       "  <tbody>\n",
       "    <tr>\n",
       "      <th>0</th>\n",
       "      <td>Bohemia</td>\n",
       "    </tr>\n",
       "    <tr>\n",
       "      <th>1</th>\n",
       "      <td>Russia</td>\n",
       "    </tr>\n",
       "    <tr>\n",
       "      <th>2</th>\n",
       "      <td>China PR</td>\n",
       "    </tr>\n",
       "    <tr>\n",
       "      <th>3</th>\n",
       "      <td>Czechoslovakia</td>\n",
       "    </tr>\n",
       "    <tr>\n",
       "      <th>4</th>\n",
       "      <td>Yugoslavia</td>\n",
       "    </tr>\n",
       "    <tr>\n",
       "      <th>...</th>\n",
       "      <td>...</td>\n",
       "    </tr>\n",
       "    <tr>\n",
       "      <th>68</th>\n",
       "      <td>Northern Cyprus</td>\n",
       "    </tr>\n",
       "    <tr>\n",
       "      <th>69</th>\n",
       "      <td>Kosovo</td>\n",
       "    </tr>\n",
       "    <tr>\n",
       "      <th>70</th>\n",
       "      <td>East Timor</td>\n",
       "    </tr>\n",
       "    <tr>\n",
       "      <th>71</th>\n",
       "      <td>Tahiti</td>\n",
       "    </tr>\n",
       "    <tr>\n",
       "      <th>72</th>\n",
       "      <td>Bonaire</td>\n",
       "    </tr>\n",
       "  </tbody>\n",
       "</table>\n",
       "<p>73 rows × 1 columns</p>\n",
       "</div>"
      ],
      "text/plain": [
       "            country\n",
       "0           Bohemia\n",
       "1            Russia\n",
       "2          China PR\n",
       "3    Czechoslovakia\n",
       "4        Yugoslavia\n",
       "..              ...\n",
       "68  Northern Cyprus\n",
       "69           Kosovo\n",
       "70       East Timor\n",
       "71           Tahiti\n",
       "72          Bonaire\n",
       "\n",
       "[73 rows x 1 columns]"
      ]
     },
     "execution_count": 6,
     "metadata": {},
     "output_type": "execute_result"
    }
   ],
   "source": [
    "fufu = pd.read_sql_query('''\n",
    "select distinct country\n",
    "from results\n",
    "where alpha_2 is null\n",
    "''', conn)\n",
    "fufu"
   ]
  },
  {
   "cell_type": "code",
   "execution_count": 8,
   "metadata": {},
   "outputs": [
    {
     "data": {
      "text/html": [
       "<div>\n",
       "<style scoped>\n",
       "    .dataframe tbody tr th:only-of-type {\n",
       "        vertical-align: middle;\n",
       "    }\n",
       "\n",
       "    .dataframe tbody tr th {\n",
       "        vertical-align: top;\n",
       "    }\n",
       "\n",
       "    .dataframe thead th {\n",
       "        text-align: right;\n",
       "    }\n",
       "</style>\n",
       "<table border=\"1\" class=\"dataframe\">\n",
       "  <thead>\n",
       "    <tr style=\"text-align: right;\">\n",
       "      <th></th>\n",
       "      <th>id</th>\n",
       "      <th>name</th>\n",
       "      <th>alpha_2</th>\n",
       "    </tr>\n",
       "  </thead>\n",
       "  <tbody>\n",
       "    <tr>\n",
       "      <th>0</th>\n",
       "      <td>32</td>\n",
       "      <td>Bolivia, Plurinational State of</td>\n",
       "      <td>BO</td>\n",
       "    </tr>\n",
       "    <tr>\n",
       "      <th>1</th>\n",
       "      <td>239</td>\n",
       "      <td>Venezuela, Bolivarian Republic of</td>\n",
       "      <td>VE</td>\n",
       "    </tr>\n",
       "  </tbody>\n",
       "</table>\n",
       "</div>"
      ],
      "text/plain": [
       "    id                               name alpha_2\n",
       "0   32    Bolivia, Plurinational State of      BO\n",
       "1  239  Venezuela, Bolivarian Republic of      VE"
      ]
     },
     "execution_count": 8,
     "metadata": {},
     "output_type": "execute_result"
    }
   ],
   "source": [
    "dudu = pd.read_sql_query('''\n",
    "SELECT *\n",
    "FROM countries\n",
    "where name like '%boliv%'\n",
    "''', conn)\n",
    "dudu"
   ]
  },
  {
   "cell_type": "code",
   "execution_count": null,
   "metadata": {},
   "outputs": [],
   "source": [
    "test = pd.read_sql_query('''\n",
    "SELECT *\n",
    "FROM results\n",
    "where city like '%Manchester%'\n",
    "''', conn)\n",
    "test"
   ]
  },
  {
   "cell_type": "code",
   "execution_count": null,
   "metadata": {},
   "outputs": [],
   "source": [
    "# join between locations and results (the city where the match played)\n",
    "test = pd.read_sql_query('''\n",
    "SELECT city\n",
    "FROM results\n",
    "group by 1\n",
    "having count(distinct country) > 1\n",
    "''', conn)\n",
    "test"
   ]
  },
  {
   "cell_type": "code",
   "execution_count": 103,
   "metadata": {},
   "outputs": [
    {
     "data": {
      "text/html": [
       "<div>\n",
       "<style scoped>\n",
       "    .dataframe tbody tr th:only-of-type {\n",
       "        vertical-align: middle;\n",
       "    }\n",
       "\n",
       "    .dataframe tbody tr th {\n",
       "        vertical-align: top;\n",
       "    }\n",
       "\n",
       "    .dataframe thead th {\n",
       "        text-align: right;\n",
       "    }\n",
       "</style>\n",
       "<table border=\"1\" class=\"dataframe\">\n",
       "  <thead>\n",
       "    <tr style=\"text-align: right;\">\n",
       "      <th></th>\n",
       "      <th>country</th>\n",
       "    </tr>\n",
       "  </thead>\n",
       "  <tbody>\n",
       "    <tr>\n",
       "      <th>0</th>\n",
       "      <td>United Arab Republic</td>\n",
       "    </tr>\n",
       "    <tr>\n",
       "      <th>1</th>\n",
       "      <td>Egypt</td>\n",
       "    </tr>\n",
       "  </tbody>\n",
       "</table>\n",
       "</div>"
      ],
      "text/plain": [
       "                country\n",
       "0  United Arab Republic\n",
       "1                 Egypt"
      ]
     },
     "execution_count": 103,
     "metadata": {},
     "output_type": "execute_result"
    }
   ],
   "source": [
    "test = pd.read_sql_query('''\n",
    "SELECT distinct country\n",
    "FROM results\n",
    "where city = 'Alexandria'\n",
    "''', conn)\n",
    "test"
   ]
  },
  {
   "cell_type": "code",
   "execution_count": null,
   "metadata": {},
   "outputs": [],
   "source": [
    "gugu2 = pd.read_sql_query('''\n",
    "select *\n",
    "from Merged\n",
    "where city_results = 'Tel Aviv'\n",
    "order by date\n",
    "''', conn)\n",
    "gugu2"
   ]
  },
  {
   "cell_type": "code",
   "execution_count": 112,
   "metadata": {},
   "outputs": [
    {
     "data": {
      "text/html": [
       "<div>\n",
       "<style scoped>\n",
       "    .dataframe tbody tr th:only-of-type {\n",
       "        vertical-align: middle;\n",
       "    }\n",
       "\n",
       "    .dataframe tbody tr th {\n",
       "        vertical-align: top;\n",
       "    }\n",
       "\n",
       "    .dataframe thead th {\n",
       "        text-align: right;\n",
       "    }\n",
       "</style>\n",
       "<table border=\"1\" class=\"dataframe\">\n",
       "  <thead>\n",
       "    <tr style=\"text-align: right;\">\n",
       "      <th></th>\n",
       "      <th>id</th>\n",
       "      <th>name</th>\n",
       "      <th>mindate</th>\n",
       "      <th>maxdate</th>\n",
       "      <th>datacoverage</th>\n",
       "    </tr>\n",
       "  </thead>\n",
       "  <tbody>\n",
       "    <tr>\n",
       "      <th>0</th>\n",
       "      <td>CITY:IS000006</td>\n",
       "      <td>Tel Aviv-Yafo, IS</td>\n",
       "      <td>1939-10-01</td>\n",
       "      <td>2024-09-24</td>\n",
       "      <td>1.0</td>\n",
       "    </tr>\n",
       "  </tbody>\n",
       "</table>\n",
       "</div>"
      ],
      "text/plain": [
       "              id               name     mindate     maxdate  datacoverage\n",
       "0  CITY:IS000006  Tel Aviv-Yafo, IS  1939-10-01  2024-09-24           1.0"
      ]
     },
     "execution_count": 112,
     "metadata": {},
     "output_type": "execute_result"
    }
   ],
   "source": [
    "gugu3 = pd.read_sql_query('''\n",
    "select *\n",
    "from locations\n",
    "where name like '%Tel Aviv%'\n",
    "''', conn)\n",
    "gugu3"
   ]
  },
  {
   "cell_type": "code",
   "execution_count": 68,
   "metadata": {},
   "outputs": [
    {
     "data": {
      "text/html": [
       "<div>\n",
       "<style scoped>\n",
       "    .dataframe tbody tr th:only-of-type {\n",
       "        vertical-align: middle;\n",
       "    }\n",
       "\n",
       "    .dataframe tbody tr th {\n",
       "        vertical-align: top;\n",
       "    }\n",
       "\n",
       "    .dataframe thead th {\n",
       "        text-align: right;\n",
       "    }\n",
       "</style>\n",
       "<table border=\"1\" class=\"dataframe\">\n",
       "  <thead>\n",
       "    <tr style=\"text-align: right;\">\n",
       "      <th></th>\n",
       "      <th>date</th>\n",
       "      <th>city_results</th>\n",
       "      <th>id</th>\n",
       "    </tr>\n",
       "  </thead>\n",
       "  <tbody>\n",
       "    <tr>\n",
       "      <th>0</th>\n",
       "      <td>2001-03-24</td>\n",
       "      <td>Liverpool</td>\n",
       "      <td>CITY:UK000008</td>\n",
       "    </tr>\n",
       "    <tr>\n",
       "      <th>1</th>\n",
       "      <td>2002-04-17</td>\n",
       "      <td>Liverpool</td>\n",
       "      <td>CITY:UK000008</td>\n",
       "    </tr>\n",
       "    <tr>\n",
       "      <th>2</th>\n",
       "      <td>2018-03-23</td>\n",
       "      <td>Manchester</td>\n",
       "      <td>CITY:UK000010</td>\n",
       "    </tr>\n",
       "    <tr>\n",
       "      <th>3</th>\n",
       "      <td>2023-06-19</td>\n",
       "      <td>Manchester</td>\n",
       "      <td>CITY:UK000010</td>\n",
       "    </tr>\n",
       "  </tbody>\n",
       "</table>\n",
       "</div>"
      ],
      "text/plain": [
       "         date city_results             id\n",
       "0  2001-03-24    Liverpool  CITY:UK000008\n",
       "1  2002-04-17    Liverpool  CITY:UK000008\n",
       "2  2018-03-23   Manchester  CITY:UK000010\n",
       "3  2023-06-19   Manchester  CITY:UK000010"
      ]
     },
     "execution_count": 68,
     "metadata": {},
     "output_type": "execute_result"
    }
   ],
   "source": [
    "test = pd.read_sql_query('''\n",
    "with part1 as(\n",
    "SELECT date, city_results, id\n",
    "FROM Merged\n",
    "where city_locations like '%Manchester%'\n",
    "and id like '%UK%'\n",
    "order by date desc\n",
    "limit 2\n",
    "),\n",
    "part2 as(\n",
    "SELECT date, city_results, id\n",
    "FROM Merged\n",
    "where city_locations like '%Liverpool%'\n",
    "and id like '%UK%'\n",
    "order by date desc\n",
    "limit 2\n",
    ")\n",
    "select * from part1\n",
    "union\n",
    "select * from part2\n",
    "''', conn)\n",
    "test"
   ]
  },
  {
   "cell_type": "code",
   "execution_count": 70,
   "metadata": {},
   "outputs": [
    {
     "name": "stdout",
     "output_type": "stream",
     "text": [
      "2001-03-24\n",
      "CITY:UK000008\n",
      "2002-04-17\n",
      "CITY:UK000008\n",
      "2018-03-23\n",
      "CITY:UK000010\n",
      "2023-06-19\n",
      "CITY:UK000010\n"
     ]
    }
   ],
   "source": [
    "for index, row in test.iterrows():\n",
    "    print(row['date'])\n",
    "    print(row['id'])"
   ]
  },
  {
   "cell_type": "markdown",
   "metadata": {},
   "source": [
    "### create table to hold climate data"
   ]
  },
  {
   "cell_type": "code",
   "execution_count": 47,
   "metadata": {},
   "outputs": [],
   "source": [
    "conn.execute('''drop table if exists climate''')\n",
    "conn.commit()"
   ]
  },
  {
   "cell_type": "code",
   "execution_count": 48,
   "metadata": {},
   "outputs": [],
   "source": [
    "# Create the climate table if it doesn't exist\n",
    "conn.execute('''\n",
    "CREATE TABLE IF NOT EXISTS climate (\n",
    "    date TEXT,\n",
    "    datatype TEXT,\n",
    "    station TEXT,\n",
    "    attributes TEXT,\n",
    "    value REAL\n",
    ")\n",
    "''')\n",
    "conn.commit()"
   ]
  },
  {
   "cell_type": "code",
   "execution_count": null,
   "metadata": {},
   "outputs": [],
   "source": [
    "import requests\n",
    "import sqlite3\n",
    "import json\n",
    "\n",
    "# Define the endpoint\n",
    "endpoint = 'https://www.ncdc.noaa.gov/cdo-web/api/v2/data'\n",
    "\n",
    "# Set the headers with the API token\n",
    "headers = {\n",
    "    'token': api_token\n",
    "}"
   ]
  },
  {
   "cell_type": "code",
   "execution_count": 45,
   "metadata": {},
   "outputs": [],
   "source": [
    "# Define the parameters for the request\n",
    "params = {\n",
    "    'datasetid': 'GHCND',  # Global Historical Climatology Network - Daily\n",
    "    'locationid': 'CITY:AE000001',\n",
    "    'startdate': '2024-03-21',\n",
    "    'enddate': '2024-03-21',\n",
    "    'limit': 1000  # Number of results to return\n",
    "}\n",
    "\n",
    "# Make the request\n",
    "response = requests.get(endpoint, headers=headers, params=params)\n",
    "data = response.json()\n",
    "\n",
    "# Connect to SQLite database (or create it if it doesn't exist)\n",
    "# conn = sqlite3.connect('climate.db')\n",
    "cursor = conn.cursor()\n",
    "\n",
    "# Insert data into the climate table\n",
    "for record in data['results']:\n",
    "        cursor.execute('''\n",
    "        INSERT OR REPLACE INTO climate (date, datatype, station, attributes, value)\n",
    "        VALUES (?, ?, ?, ?, ?)\n",
    "        ''', (record['date'], record['datatype'], record['station'], record['attributes'], record['value']))\n",
    "        \n",
    "# Commit the transaction and close the connection\n",
    "conn.commit()"
   ]
  },
  {
   "cell_type": "code",
   "execution_count": 46,
   "metadata": {},
   "outputs": [
    {
     "data": {
      "text/html": [
       "<div>\n",
       "<style scoped>\n",
       "    .dataframe tbody tr th:only-of-type {\n",
       "        vertical-align: middle;\n",
       "    }\n",
       "\n",
       "    .dataframe tbody tr th {\n",
       "        vertical-align: top;\n",
       "    }\n",
       "\n",
       "    .dataframe thead th {\n",
       "        text-align: right;\n",
       "    }\n",
       "</style>\n",
       "<table border=\"1\" class=\"dataframe\">\n",
       "  <thead>\n",
       "    <tr style=\"text-align: right;\">\n",
       "      <th></th>\n",
       "      <th>date</th>\n",
       "      <th>datatype</th>\n",
       "      <th>station</th>\n",
       "      <th>attributes</th>\n",
       "      <th>value</th>\n",
       "    </tr>\n",
       "  </thead>\n",
       "  <tbody>\n",
       "    <tr>\n",
       "      <th>0</th>\n",
       "      <td>2024-03-21T00:00:00</td>\n",
       "      <td>TAVG</td>\n",
       "      <td>GHCND:AEM00041217</td>\n",
       "      <td>H,,S,</td>\n",
       "      <td>241.0</td>\n",
       "    </tr>\n",
       "    <tr>\n",
       "      <th>1</th>\n",
       "      <td>2024-03-21T00:00:00</td>\n",
       "      <td>TMAX</td>\n",
       "      <td>GHCND:AEM00041217</td>\n",
       "      <td>,,S,</td>\n",
       "      <td>275.0</td>\n",
       "    </tr>\n",
       "    <tr>\n",
       "      <th>2</th>\n",
       "      <td>2024-03-21T00:00:00</td>\n",
       "      <td>TAVG</td>\n",
       "      <td>GHCND:AEM00041217</td>\n",
       "      <td>H,,S,</td>\n",
       "      <td>241.0</td>\n",
       "    </tr>\n",
       "    <tr>\n",
       "      <th>3</th>\n",
       "      <td>2024-03-21T00:00:00</td>\n",
       "      <td>TMAX</td>\n",
       "      <td>GHCND:AEM00041217</td>\n",
       "      <td>,,S,</td>\n",
       "      <td>275.0</td>\n",
       "    </tr>\n",
       "  </tbody>\n",
       "</table>\n",
       "</div>"
      ],
      "text/plain": [
       "                  date datatype            station attributes  value\n",
       "0  2024-03-21T00:00:00     TAVG  GHCND:AEM00041217      H,,S,  241.0\n",
       "1  2024-03-21T00:00:00     TMAX  GHCND:AEM00041217       ,,S,  275.0\n",
       "2  2024-03-21T00:00:00     TAVG  GHCND:AEM00041217      H,,S,  241.0\n",
       "3  2024-03-21T00:00:00     TMAX  GHCND:AEM00041217       ,,S,  275.0"
      ]
     },
     "execution_count": 46,
     "metadata": {},
     "output_type": "execute_result"
    }
   ],
   "source": [
    "test = pd.read_sql_query('''\n",
    "SELECT *\n",
    "FROM climate\n",
    "''', conn)\n",
    "test"
   ]
  },
  {
   "cell_type": "code",
   "execution_count": 32,
   "metadata": {},
   "outputs": [
    {
     "name": "stdout",
     "output_type": "stream",
     "text": [
      "{'date': '2024-03-21T00:00:00', 'datatype': 'TAVG', 'station': 'GHCND:AEM00041217', 'attributes': 'H,,S,', 'value': 241}\n",
      "{'date': '2024-03-21T00:00:00', 'datatype': 'TMAX', 'station': 'GHCND:AEM00041217', 'attributes': ',,S,', 'value': 275}\n"
     ]
    }
   ],
   "source": [
    "params = {\n",
    "    'datasetid': 'GHCND',  # Global Historical Climatology Network - Daily\n",
    "    'locationid': 'CITY:AE000001',\n",
    "    'startdate': '2024-03-21',\n",
    "    'enddate': '2024-03-21',\n",
    "    # 'datatypeid': 'TMAX'\n",
    "}\n",
    "\n",
    "# Make the request\n",
    "response = requests.get(endpoint, headers=headers, params=params)\n",
    "data = response.json()\n",
    "\n",
    "for record in data['results']:\n",
    "    print(record)"
   ]
  }
 ],
 "metadata": {
  "kernelspec": {
   "display_name": ".venv",
   "language": "python",
   "name": "python3"
  },
  "language_info": {
   "codemirror_mode": {
    "name": "ipython",
    "version": 3
   },
   "file_extension": ".py",
   "mimetype": "text/x-python",
   "name": "python",
   "nbconvert_exporter": "python",
   "pygments_lexer": "ipython3",
   "version": "3.12.6"
  }
 },
 "nbformat": 4,
 "nbformat_minor": 2
}
